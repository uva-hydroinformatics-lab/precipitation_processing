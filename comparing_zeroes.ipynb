{
 "cells": [
  {
   "cell_type": "markdown",
   "metadata": {},
   "source": [
    "# Checking the effect of including the zeroes\n",
    "I need to substitute the rainfall and variance estimates made when including zeroes into the data that did not include the zeroes for the four dates in question."
   ]
  },
  {
   "cell_type": "code",
   "execution_count": 1,
   "metadata": {
    "collapsed": true
   },
   "outputs": [],
   "source": [
    "%matplotlib inline\n",
    "from storm_stats_functions import data_dir, get_data_frame_from_table\n",
    "from IPython.core.debugger import Tracer\n",
    "import pandas as pd\n",
    "import numpy as np"
   ]
  },
  {
   "cell_type": "code",
   "execution_count": 2,
   "metadata": {
    "collapsed": true
   },
   "outputs": [],
   "source": [
    "def filter_dates(freq='H'):\n",
    "    filt_dates = ['2014-09-13', '2015-04-14', '2015-09-30', '2015-10-02']\n",
    "    l = []\n",
    "    for d in filt_dates:\n",
    "        d = pd.to_datetime(d)\n",
    "        drange = pd.date_range(start=d, end=d+pd.DateOffset(1), freq=freq)\n",
    "        l.extend(drange)\n",
    "    return l"
   ]
  },
  {
   "cell_type": "code",
   "execution_count": 3,
   "metadata": {
    "collapsed": false,
    "scrolled": true
   },
   "outputs": [
    {
     "name": "stdout",
     "output_type": "stream",
     "text": [
      "fetching data from database for wshed_ids\n"
     ]
    },
    {
     "data": {
      "text/html": [
       "<div>\n",
       "<table border=\"1\" class=\"dataframe\">\n",
       "  <thead>\n",
       "    <tr style=\"text-align: right;\">\n",
       "      <th></th>\n",
       "      <th>level_0</th>\n",
       "      <th>index</th>\n",
       "      <th>ID</th>\n",
       "      <th>Description</th>\n",
       "      <th>arcid</th>\n",
       "      <th>numrem</th>\n",
       "      <th>x</th>\n",
       "      <th>y</th>\n",
       "      <th>Area_sq_km</th>\n",
       "      <th>Area_sq_mi</th>\n",
       "    </tr>\n",
       "  </thead>\n",
       "  <tbody>\n",
       "    <tr>\n",
       "      <th>0</th>\n",
       "      <td>0</td>\n",
       "      <td>0</td>\n",
       "      <td>WS-1</td>\n",
       "      <td>Shore Drive and Great Neck Road</td>\n",
       "      <td>2</td>\n",
       "      <td>3</td>\n",
       "      <td>3.718527e+06</td>\n",
       "      <td>1.068005e+06</td>\n",
       "      <td>0.693451</td>\n",
       "      <td>0.267743</td>\n",
       "    </tr>\n",
       "    <tr>\n",
       "      <th>1</th>\n",
       "      <td>1</td>\n",
       "      <td>1</td>\n",
       "      <td>WS-2</td>\n",
       "      <td>Shore Drive and Red Tide Road</td>\n",
       "      <td>4</td>\n",
       "      <td>3</td>\n",
       "      <td>3.711823e+06</td>\n",
       "      <td>1.067229e+06</td>\n",
       "      <td>0.020216</td>\n",
       "      <td>0.007805</td>\n",
       "    </tr>\n",
       "    <tr>\n",
       "      <th>2</th>\n",
       "      <td>2</td>\n",
       "      <td>2</td>\n",
       "      <td>WS-3</td>\n",
       "      <td>Ocean View Ave and Mortons Road</td>\n",
       "      <td>1</td>\n",
       "      <td>1</td>\n",
       "      <td>3.715834e+06</td>\n",
       "      <td>1.066781e+06</td>\n",
       "      <td>0.760561</td>\n",
       "      <td>0.293654</td>\n",
       "    </tr>\n",
       "    <tr>\n",
       "      <th>3</th>\n",
       "      <td>3</td>\n",
       "      <td>3</td>\n",
       "      <td>WS-4</td>\n",
       "      <td>S. Rosemont and S. Plaza Trail</td>\n",
       "      <td>6</td>\n",
       "      <td>2</td>\n",
       "      <td>3.724698e+06</td>\n",
       "      <td>1.060090e+06</td>\n",
       "      <td>0.083159</td>\n",
       "      <td>0.032108</td>\n",
       "    </tr>\n",
       "    <tr>\n",
       "      <th>4</th>\n",
       "      <td>4</td>\n",
       "      <td>4</td>\n",
       "      <td>WS-5</td>\n",
       "      <td>S. Rosemont and Clubhouse</td>\n",
       "      <td>5</td>\n",
       "      <td>2</td>\n",
       "      <td>3.715944e+06</td>\n",
       "      <td>1.066954e+06</td>\n",
       "      <td>0.147142</td>\n",
       "      <td>0.056812</td>\n",
       "    </tr>\n",
       "    <tr>\n",
       "      <th>5</th>\n",
       "      <td>5</td>\n",
       "      <td>5</td>\n",
       "      <td>WS-6</td>\n",
       "      <td>21st and Baltic</td>\n",
       "      <td>3</td>\n",
       "      <td>1</td>\n",
       "      <td>3.714183e+06</td>\n",
       "      <td>1.057567e+06</td>\n",
       "      <td>0.258154</td>\n",
       "      <td>0.099674</td>\n",
       "    </tr>\n",
       "    <tr>\n",
       "      <th>6</th>\n",
       "      <td>6</td>\n",
       "      <td>6</td>\n",
       "      <td>WS-7</td>\n",
       "      <td>Shore Drive and Kendall Street</td>\n",
       "      <td>0</td>\n",
       "      <td>2</td>\n",
       "      <td>3.714389e+06</td>\n",
       "      <td>1.058331e+06</td>\n",
       "      <td>0.131638</td>\n",
       "      <td>0.050826</td>\n",
       "    </tr>\n",
       "  </tbody>\n",
       "</table>\n",
       "</div>"
      ],
      "text/plain": [
       "   level_0  index    ID                      Description  arcid  numrem  \\\n",
       "0        0      0  WS-1  Shore Drive and Great Neck Road      2       3   \n",
       "1        1      1  WS-2    Shore Drive and Red Tide Road      4       3   \n",
       "2        2      2  WS-3  Ocean View Ave and Mortons Road      1       1   \n",
       "3        3      3  WS-4   S. Rosemont and S. Plaza Trail      6       2   \n",
       "4        4      4  WS-5        S. Rosemont and Clubhouse      5       2   \n",
       "5        5      5  WS-6                  21st and Baltic      3       1   \n",
       "6        6      6  WS-7   Shore Drive and Kendall Street      0       2   \n",
       "\n",
       "              x             y  Area_sq_km  Area_sq_mi  \n",
       "0  3.718527e+06  1.068005e+06    0.693451    0.267743  \n",
       "1  3.711823e+06  1.067229e+06    0.020216    0.007805  \n",
       "2  3.715834e+06  1.066781e+06    0.760561    0.293654  \n",
       "3  3.724698e+06  1.060090e+06    0.083159    0.032108  \n",
       "4  3.715944e+06  1.066954e+06    0.147142    0.056812  \n",
       "5  3.714183e+06  1.057567e+06    0.258154    0.099674  \n",
       "6  3.714389e+06  1.058331e+06    0.131638    0.050826  "
      ]
     },
     "execution_count": 3,
     "metadata": {},
     "output_type": "execute_result"
    }
   ],
   "source": [
    "wsds = get_data_frame_from_table('wshed_ids')\n",
    "wsds"
   ]
  },
  {
   "cell_type": "code",
   "execution_count": 20,
   "metadata": {
    "collapsed": false
   },
   "outputs": [
    {
     "name": "stdout",
     "output_type": "stream",
     "text": [
      "(88, 7)\n",
      "(88, 7)\n",
      "est    0.211711\n",
      "var    0.462751\n",
      "dtype: float64\n",
      "watershed_descr    0\n",
      "time_stamp         0\n",
      "num_removed        0\n",
      "dtype: int64\n",
      "               est          var\n",
      "count  2795.000000  2795.000000\n",
      "mean      0.006666     0.014570\n",
      "std       0.088422     0.197891\n",
      "min       0.000000     0.000000\n",
      "25%       0.000000     0.000000\n",
      "50%       0.000000     0.000000\n",
      "75%       0.000000     0.000000\n",
      "max       3.163795     5.559594\n",
      "(88, 7)\n",
      "(88, 7)\n",
      "est    0.515315\n",
      "var    2.185688\n",
      "dtype: float64\n",
      "watershed_descr    0\n",
      "time_stamp         0\n",
      "num_removed        0\n",
      "dtype: int64\n",
      "               est          var\n",
      "count  2795.000000  2795.000000\n",
      "mean      0.016225     0.068816\n",
      "std       0.191437     1.207160\n",
      "min       0.000000     0.000000\n",
      "25%       0.000000     0.000000\n",
      "50%       0.000000     0.000000\n",
      "75%       0.000000     0.000000\n",
      "max       5.151870    51.611058\n",
      "(88, 7)\n",
      "(88, 7)\n",
      "est     4.614568\n",
      "var    12.586053\n",
      "dtype: float64\n",
      "watershed_descr    0\n",
      "time_stamp         0\n",
      "num_removed        0\n",
      "dtype: int64\n",
      "               est          var\n",
      "count  2795.000000  2795.000000\n",
      "mean      0.010347     0.030222\n",
      "std       0.096312     0.536173\n",
      "min       0.000000     0.000000\n",
      "25%       0.000000     0.000000\n",
      "50%       0.000000     0.000000\n",
      "75%       0.000000     0.000000\n",
      "max       1.788007    25.381834\n",
      "(88, 7)\n",
      "(88, 7)\n",
      "est    0.397866\n",
      "var    1.202169\n",
      "dtype: float64\n",
      "watershed_descr    0\n",
      "time_stamp         0\n",
      "num_removed        0\n",
      "dtype: int64\n",
      "               est          var\n",
      "count  2795.000000  2795.000000\n",
      "mean      0.012527     0.037850\n",
      "std       0.143851     0.581061\n",
      "min       0.000000     0.000000\n",
      "25%       0.000000     0.000000\n",
      "50%       0.000000     0.000000\n",
      "75%       0.000000     0.000000\n",
      "max       3.790014    23.746273\n",
      "(88, 7)\n",
      "(88, 7)\n",
      "est    0.347555\n",
      "var    1.320623\n",
      "dtype: float64\n",
      "watershed_descr    0\n",
      "time_stamp         0\n",
      "num_removed        0\n",
      "dtype: int64\n",
      "               est          var\n",
      "count  2795.000000  2795.000000\n",
      "mean      0.010943     0.041580\n",
      "std       0.120670     0.643965\n",
      "min       0.000000     0.000000\n",
      "25%       0.000000     0.000000\n",
      "50%       0.000000     0.000000\n",
      "75%       0.000000     0.000000\n",
      "max       2.899341    26.147031\n",
      "(88, 7)\n",
      "(88, 7)\n",
      "est    0.402449\n",
      "var    1.563678\n",
      "dtype: float64\n",
      "watershed_descr    0\n",
      "time_stamp         0\n",
      "num_removed        0\n",
      "dtype: int64\n",
      "               est          var\n",
      "count  2795.000000  2795.000000\n",
      "mean      0.012671     0.049232\n",
      "std       0.165232     0.803493\n",
      "min       0.000000     0.000000\n",
      "25%       0.000000     0.000000\n",
      "50%       0.000000     0.000000\n",
      "75%       0.000000     0.000000\n",
      "max       4.859171    29.419240\n",
      "(88, 7)\n",
      "(88, 7)\n",
      "est     4.461200\n",
      "var    16.600535\n",
      "dtype: float64\n",
      "watershed_descr    0\n",
      "time_stamp         0\n",
      "num_removed        0\n",
      "dtype: int64\n",
      "               est          var\n",
      "count  2795.000000  2795.000000\n",
      "mean      0.004263     0.014666\n",
      "std       0.038412     0.196673\n",
      "min       0.000000     0.000000\n",
      "25%       0.000000     0.000000\n",
      "50%       0.000000     0.000000\n",
      "75%       0.000000     0.000000\n",
      "max       0.813770     5.559594\n"
     ]
    },
    {
     "data": {
      "image/png": "[encoded data removed]",
      "text/plain": [
       "<matplotlib.figure.Figure at 0xd0719e8>"
      ]
     },
     "metadata": {},
     "output_type": "display_data"
    },
    {
     "data": {
      "image/png": "[encoded data removed]",
      "text/plain": [
       "<matplotlib.figure.Figure at 0xbc3dcf8>"
      ]
     },
     "metadata": {},
     "output_type": "display_data"
    },
    {
     "data": {
      "image/png": "[encoded data removed]",
      "text/plain": [
       "<matplotlib.figure.Figure at 0xb300eb8>"
      ]
     },
     "metadata": {},
     "output_type": "display_data"
    },
    {
     "data": {
      "image/png": "[encoded data removed]",
      "text/plain": [
       "<matplotlib.figure.Figure at 0xc3f5a58>"
      ]
     },
     "metadata": {},
     "output_type": "display_data"
    },
    {
     "data": {
      "image/png": "[encoded data removed]",
      "text/plain": [
       "<matplotlib.figure.Figure at 0xb4d05f8>"
      ]
     },
     "metadata": {},
     "output_type": "display_data"
    },
    {
     "data": {
      "image/png": "[encoded data removed]",
      "text/plain": [
       "<matplotlib.figure.Figure at 0xd41c6d8>"
      ]
     },
     "metadata": {},
     "output_type": "display_data"
    },
    {
     "data": {
      "image/png": "[encoded data removed]",
      "text/plain": [
       "<matplotlib.figure.Figure at 0xd421470>"
      ]
     },
     "metadata": {},
     "output_type": "display_data"
    }
   ],
   "source": [
    "typ = 'hr'\n",
    "dfz_list = []\n",
    "dfnz_list = []\n",
    "for w in wsds.index:\n",
    "   \n",
    "    # filtered timestamps\n",
    "    if typ == 'hr':\n",
    "        freq = \"H\"\n",
    "    if typ == 'fif':\n",
    "        freq = \"15T\"\n",
    "    filtered_dates = filter_dates(freq=freq)\n",
    "\n",
    "    # read in data with no zeroes\n",
    "    columns=['watershed_descr', 'time_stamp', 'num_removed', 'dists', 'stations_removed', 'est', 'var']\n",
    "    if typ == 'fif':\n",
    "        f_name = '{0}/kriging results/{1}/{1}_{2}.csv'.format(data_dir, typ+\"teen_min\", wsds.loc[w, 'Description'])\n",
    "    else:\n",
    "        f_name = '{0}/kriging results/{1}/{1}_{2}.csv'.format(data_dir, typ, wsds.loc[w, 'Description'])\n",
    "    df_nz = pd.read_csv(f_name, infer_datetime_format=True, parse_dates=['time_stamp'])\n",
    " \n",
    "    # read in data with zeroes\n",
    "    f_name = '{0}/kriging results/{1}/{1}_{2}_sel.csv'.format(data_dir, typ + \"_zeroes\", wsds.loc[w, 'Description'])\n",
    "    df_z = pd.read_csv(f_name, infer_datetime_format=True, parse_dates=['time_stamp'])\n",
    "    \n",
    "    # filter the data by time stamp and num removed\n",
    "    df_z_filt = df_z[df_z['num_removed'].isin([0, wsds.loc[w, 'numrem']])]\n",
    "    df_z_filt = df_z_filt[df_z_filt['time_stamp'].isin(filtered_dates)]\n",
    "    print df_z_filt.shape\n",
    "    dfz_list.append(df_z_filt)\n",
    "    \n",
    "    df_nz_filt = df_nz[df_nz['num_removed'].isin([0, wsds.loc[w, 'numrem']])]\n",
    "    df_nz_filt = df_nz_filt[df_nz_filt['time_stamp'].isin(filtered_dates)]\n",
    "    df_nz_ind = df_nz_filt.index\n",
    "    df_nz_filt.reset_index(inplace=True, drop=True)\n",
    "    print df_nz_filt.shape\n",
    "    dfnz_list.append(df_nz_filt)\n",
    "    \n",
    "    # compare just on the filter dates\n",
    "    print abs(df_nz_filt[['est', 'var']] - df_z[['est', 'var']]).mean()\n",
    "    abs(df_nz_filt[['est', 'var']] - df_z[['est', 'var']]).plot.box(title=wsds.loc[w, 'Description'])\n",
    "\n",
    "    df_new = pd.concat([df_nz.loc[~df_nz.index.isin(df_nz_ind)], df_z_filt])\n",
    "    f_name = '{0}/kriging results/{1}/{1}_{2}.csv'.format(data_dir, typ + \"_zeroes\", wsds.loc[w, 'Description'])\n",
    "    df_new.to_csv(f_name, index=False)\n",
    "    \n",
    "    # compare just on all dates\n",
    "    df_nz.sort_values(['watershed_descr', 'num_removed', 'time_stamp'], inplace=True)\n",
    "    df_new.sort_values(['watershed_descr', 'num_removed', 'time_stamp'], inplace=True) \n",
    "    df_nz.reset_index(inplace=True, drop=True)\n",
    "    df_new.reset_index(inplace=True, drop=True)\n",
    "    print (df_nz.ix[:, :3] != df_new.ix[:, :3]).sum()\n",
    "    print abs(df_nz[['est', 'var']] - df_new[['est', 'var']]).describe()"
   ]
  },
  {
   "cell_type": "markdown",
   "metadata": {},
   "source": [
    "## Comparing just the dates on which zero rain was recorded by more than one station"
   ]
  },
  {
   "cell_type": "code",
   "execution_count": 21,
   "metadata": {
    "collapsed": false
   },
   "outputs": [],
   "source": [
    "all_z = pd.concat(dfz_list)\n",
    "all_nz = pd.concat(dfnz_list)\n",
    "all_z.sort_values(['watershed_descr', 'num_removed', 'time_stamp'], inplace=True)\n",
    "all_nz.sort_values(['watershed_descr', 'num_removed', 'time_stamp'], inplace=True)\n",
    "all_z.reset_index(inplace=True, drop=True)\n",
    "all_nz.reset_index(inplace=True, drop=True)"
   ]
  },
  {
   "cell_type": "markdown",
   "metadata": {},
   "source": [
    "Making sure all the data lines up"
   ]
  },
  {
   "cell_type": "code",
   "execution_count": 22,
   "metadata": {
    "collapsed": false
   },
   "outputs": [
    {
     "data": {
      "text/plain": [
       "watershed_descr    0\n",
       "time_stamp         0\n",
       "num_removed        0\n",
       "dtype: int64"
      ]
     },
     "execution_count": 22,
     "metadata": {},
     "output_type": "execute_result"
    }
   ],
   "source": [
    "(all_nz.ix[:, :3] != all_z.ix[:, :3]).sum()"
   ]
  },
  {
   "cell_type": "markdown",
   "metadata": {},
   "source": [
    "Having a couple of infinity values"
   ]
  },
  {
   "cell_type": "code",
   "execution_count": 23,
   "metadata": {
    "collapsed": false
   },
   "outputs": [
    {
     "data": {
      "text/plain": [
       "-0.127680522203"
      ]
     },
     "execution_count": 23,
     "metadata": {},
     "output_type": "execute_result"
    }
   ],
   "source": [
    "all_nz['est'].min()"
   ]
  },
  {
   "cell_type": "code",
   "execution_count": 24,
   "metadata": {
    "collapsed": false
   },
   "outputs": [
    {
     "data": {
      "text/plain": [
       "-0.049535419000000004"
      ]
     },
     "execution_count": 24,
     "metadata": {},
     "output_type": "execute_result"
    }
   ],
   "source": [
    "all_z['est'].min()"
   ]
  },
  {
   "cell_type": "code",
   "execution_count": 25,
   "metadata": {
    "collapsed": false
   },
   "outputs": [
    {
     "data": {
      "text/html": [
       "<div>\n",
       "<table border=\"1\" class=\"dataframe\">\n",
       "  <thead>\n",
       "    <tr style=\"text-align: right;\">\n",
       "      <th></th>\n",
       "      <th>est</th>\n",
       "      <th>var</th>\n",
       "    </tr>\n",
       "  </thead>\n",
       "  <tbody>\n",
       "  </tbody>\n",
       "</table>\n",
       "</div>"
      ],
      "text/plain": [
       "Empty DataFrame\n",
       "Columns: [est, var]\n",
       "Index: []"
      ]
     },
     "execution_count": 25,
     "metadata": {},
     "output_type": "execute_result"
    }
   ],
   "source": [
    "a = (abs(all_nz[['est', 'var']] - all_z[['est', 'var']]))\n",
    "a[a['est'] == np.inf]"
   ]
  },
  {
   "cell_type": "markdown",
   "metadata": {},
   "source": [
    "Take out the infinity values"
   ]
  },
  {
   "cell_type": "code",
   "execution_count": 26,
   "metadata": {
    "collapsed": false,
    "scrolled": true
   },
   "outputs": [
    {
     "data": {
      "text/html": [
       "<div>\n",
       "<table border=\"1\" class=\"dataframe\">\n",
       "  <thead>\n",
       "    <tr style=\"text-align: right;\">\n",
       "      <th></th>\n",
       "      <th>est</th>\n",
       "      <th>var</th>\n",
       "    </tr>\n",
       "  </thead>\n",
       "  <tbody>\n",
       "    <tr>\n",
       "      <th>count</th>\n",
       "      <td>616.000000</td>\n",
       "      <td>616.000000</td>\n",
       "    </tr>\n",
       "    <tr>\n",
       "      <th>mean</th>\n",
       "      <td>0.334131</td>\n",
       "      <td>1.165801</td>\n",
       "    </tr>\n",
       "    <tr>\n",
       "      <th>std</th>\n",
       "      <td>0.653596</td>\n",
       "      <td>3.650017</td>\n",
       "    </tr>\n",
       "    <tr>\n",
       "      <th>min</th>\n",
       "      <td>0.000000</td>\n",
       "      <td>0.000000</td>\n",
       "    </tr>\n",
       "    <tr>\n",
       "      <th>25%</th>\n",
       "      <td>0.006753</td>\n",
       "      <td>0.005091</td>\n",
       "    </tr>\n",
       "    <tr>\n",
       "      <th>50%</th>\n",
       "      <td>0.078757</td>\n",
       "      <td>0.109749</td>\n",
       "    </tr>\n",
       "    <tr>\n",
       "      <th>75%</th>\n",
       "      <td>0.311764</td>\n",
       "      <td>0.678394</td>\n",
       "    </tr>\n",
       "    <tr>\n",
       "      <th>max</th>\n",
       "      <td>5.151870</td>\n",
       "      <td>51.611058</td>\n",
       "    </tr>\n",
       "  </tbody>\n",
       "</table>\n",
       "</div>"
      ],
      "text/plain": [
       "              est         var\n",
       "count  616.000000  616.000000\n",
       "mean     0.334131    1.165801\n",
       "std      0.653596    3.650017\n",
       "min      0.000000    0.000000\n",
       "25%      0.006753    0.005091\n",
       "50%      0.078757    0.109749\n",
       "75%      0.311764    0.678394\n",
       "max      5.151870   51.611058"
      ]
     },
     "execution_count": 26,
     "metadata": {},
     "output_type": "execute_result"
    }
   ],
   "source": [
    "a[a['est'] != np.inf].describe()"
   ]
  },
  {
   "cell_type": "code",
   "execution_count": 9,
   "metadata": {
    "collapsed": false
   },
   "outputs": [
    {
     "data": {
      "text/html": [
       "<div>\n",
       "<table border=\"1\" class=\"dataframe\">\n",
       "  <thead>\n",
       "    <tr style=\"text-align: right;\">\n",
       "      <th></th>\n",
       "      <th>est</th>\n",
       "      <th>var</th>\n",
       "    </tr>\n",
       "  </thead>\n",
       "  <tbody>\n",
       "    <tr>\n",
       "      <th>count</th>\n",
       "      <td>2226.000000</td>\n",
       "      <td>2226.000000</td>\n",
       "    </tr>\n",
       "    <tr>\n",
       "      <th>mean</th>\n",
       "      <td>0.733489</td>\n",
       "      <td>0.637305</td>\n",
       "    </tr>\n",
       "    <tr>\n",
       "      <th>std</th>\n",
       "      <td>1.039515</td>\n",
       "      <td>2.303616</td>\n",
       "    </tr>\n",
       "    <tr>\n",
       "      <th>min</th>\n",
       "      <td>-0.307358</td>\n",
       "      <td>0.000100</td>\n",
       "    </tr>\n",
       "    <tr>\n",
       "      <th>25%</th>\n",
       "      <td>0.045402</td>\n",
       "      <td>0.022881</td>\n",
       "    </tr>\n",
       "    <tr>\n",
       "      <th>50%</th>\n",
       "      <td>0.392957</td>\n",
       "      <td>0.117706</td>\n",
       "    </tr>\n",
       "    <tr>\n",
       "      <th>75%</th>\n",
       "      <td>0.962995</td>\n",
       "      <td>0.441386</td>\n",
       "    </tr>\n",
       "    <tr>\n",
       "      <th>max</th>\n",
       "      <td>9.310034</td>\n",
       "      <td>44.353568</td>\n",
       "    </tr>\n",
       "  </tbody>\n",
       "</table>\n",
       "</div>"
      ],
      "text/plain": [
       "               est          var\n",
       "count  2226.000000  2226.000000\n",
       "mean      0.733489     0.637305\n",
       "std       1.039515     2.303616\n",
       "min      -0.307358     0.000100\n",
       "25%       0.045402     0.022881\n",
       "50%       0.392957     0.117706\n",
       "75%       0.962995     0.441386\n",
       "max       9.310034    44.353568"
      ]
     },
     "execution_count": 9,
     "metadata": {},
     "output_type": "execute_result"
    }
   ],
   "source": [
    "all_nz[['est', 'var']].describe()"
   ]
  },
  {
   "cell_type": "code",
   "execution_count": 10,
   "metadata": {
    "collapsed": false
   },
   "outputs": [
    {
     "data": {
      "text/html": [
       "<div>\n",
       "<table border=\"1\" class=\"dataframe\">\n",
       "  <thead>\n",
       "    <tr style=\"text-align: right;\">\n",
       "      <th></th>\n",
       "      <th>est</th>\n",
       "      <th>var</th>\n",
       "    </tr>\n",
       "  </thead>\n",
       "  <tbody>\n",
       "    <tr>\n",
       "      <th>count</th>\n",
       "      <td>2226.000000</td>\n",
       "      <td>2226.000000</td>\n",
       "    </tr>\n",
       "    <tr>\n",
       "      <th>mean</th>\n",
       "      <td>0.689356</td>\n",
       "      <td>0.466283</td>\n",
       "    </tr>\n",
       "    <tr>\n",
       "      <th>std</th>\n",
       "      <td>1.053787</td>\n",
       "      <td>1.554887</td>\n",
       "    </tr>\n",
       "    <tr>\n",
       "      <th>min</th>\n",
       "      <td>-0.143330</td>\n",
       "      <td>0.000098</td>\n",
       "    </tr>\n",
       "    <tr>\n",
       "      <th>25%</th>\n",
       "      <td>0.029630</td>\n",
       "      <td>0.016507</td>\n",
       "    </tr>\n",
       "    <tr>\n",
       "      <th>50%</th>\n",
       "      <td>0.340825</td>\n",
       "      <td>0.094249</td>\n",
       "    </tr>\n",
       "    <tr>\n",
       "      <th>75%</th>\n",
       "      <td>0.907959</td>\n",
       "      <td>0.338407</td>\n",
       "    </tr>\n",
       "    <tr>\n",
       "      <th>max</th>\n",
       "      <td>9.328411</td>\n",
       "      <td>34.576836</td>\n",
       "    </tr>\n",
       "  </tbody>\n",
       "</table>\n",
       "</div>"
      ],
      "text/plain": [
       "               est          var\n",
       "count  2226.000000  2226.000000\n",
       "mean      0.689356     0.466283\n",
       "std       1.053787     1.554887\n",
       "min      -0.143330     0.000098\n",
       "25%       0.029630     0.016507\n",
       "50%       0.340825     0.094249\n",
       "75%       0.907959     0.338407\n",
       "max       9.328411    34.576836"
      ]
     },
     "execution_count": 10,
     "metadata": {},
     "output_type": "execute_result"
    }
   ],
   "source": [
    "all_z[['est', 'var']].describe()"
   ]
  },
  {
   "cell_type": "code",
   "execution_count": null,
   "metadata": {
    "collapsed": true
   },
   "outputs": [],
   "source": []
  }
 ],
 "metadata": {
  "kernelspec": {
   "display_name": "Python 2",
   "language": "python",
   "name": "python2"
  },
  "language_info": {
   "codemirror_mode": {
    "name": "ipython",
    "version": 2
   },
   "file_extension": ".py",
   "mimetype": "text/x-python",
   "name": "python",
   "nbconvert_exporter": "python",
   "pygments_lexer": "ipython2",
   "version": "2.7.13"
  }
 },
 "nbformat": 4,
 "nbformat_minor": 2
}
